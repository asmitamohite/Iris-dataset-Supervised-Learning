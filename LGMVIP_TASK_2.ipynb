{
  "nbformat": 4,
  "nbformat_minor": 0,
  "metadata": {
    "colab": {
      "name": "LGMVIP TASK 2.ipynb",
      "provenance": []
    },
    "kernelspec": {
      "name": "python3",
      "display_name": "Python 3"
    },
    "language_info": {
      "name": "python"
    }
  },
  "cells": [
    {
      "cell_type": "markdown",
      "source": [
        "## **LetsGrowMore #Dec2021**"
      ],
      "metadata": {
        "id": "dnnk6-C61dlH"
      }
    },
    {
      "cell_type": "markdown",
      "source": [
        "Name : Asmita Mohite\n",
        "\n",
        "**Task 2 : Stock Market Prediction And Forecasting Using Stacked LSTM**\n",
        "\n",
        "Level : Beginner\n",
        "\n",
        "Environment : Google colab"
      ],
      "metadata": {
        "id": "n_NAn3sD18CY"
      }
    },
    {
      "cell_type": "markdown",
      "source": [
        "Importing essential libraries"
      ],
      "metadata": {
        "id": "18OE3gQz2wtu"
      }
    },
    {
      "cell_type": "code",
      "execution_count": 30,
      "metadata": {
        "id": "aEp-eeqjJwv2"
      },
      "outputs": [],
      "source": [
        "import pandas as pd\n",
        "import numpy as np\n",
        "import matplotlib.pyplot as plt\n",
        "import tensorflow as tf\n",
        "from sklearn.preprocessing import MinMaxScaler\n",
        "import warnings\n",
        "warnings.filterwarnings('ignore')"
      ]
    },
    {
      "cell_type": "code",
      "source": [
        "sd = pd.read_csv('/content/stock dataset.csv')"
      ],
      "metadata": {
        "id": "w7EmlbYfKsih"
      },
      "execution_count": 31,
      "outputs": []
    },
    {
      "cell_type": "markdown",
      "source": [
        "Displaying first 15 entries in the dataset"
      ],
      "metadata": {
        "id": "-wIRlgas23vI"
      }
    },
    {
      "cell_type": "code",
      "source": [
        "sd.head(15)"
      ],
      "metadata": {
        "colab": {
          "base_uri": "https://localhost:8080/",
          "height": 520
        },
        "id": "pYXEOr8KK5V3",
        "outputId": "e64a5045-182a-4d78-c93c-d4bcb2bb7e07"
      },
      "execution_count": 32,
      "outputs": [
        {
          "output_type": "execute_result",
          "data": {
            "text/html": [
              "\n",
              "  <div id=\"df-3388a751-4b21-43ae-bd8f-d834136a25b4\">\n",
              "    <div class=\"colab-df-container\">\n",
              "      <div>\n",
              "<style scoped>\n",
              "    .dataframe tbody tr th:only-of-type {\n",
              "        vertical-align: middle;\n",
              "    }\n",
              "\n",
              "    .dataframe tbody tr th {\n",
              "        vertical-align: top;\n",
              "    }\n",
              "\n",
              "    .dataframe thead th {\n",
              "        text-align: right;\n",
              "    }\n",
              "</style>\n",
              "<table border=\"1\" class=\"dataframe\">\n",
              "  <thead>\n",
              "    <tr style=\"text-align: right;\">\n",
              "      <th></th>\n",
              "      <th>Date</th>\n",
              "      <th>Open</th>\n",
              "      <th>High</th>\n",
              "      <th>Low</th>\n",
              "      <th>Last</th>\n",
              "      <th>Close</th>\n",
              "      <th>Total Trade Quantity</th>\n",
              "      <th>Turnover (Lacs)</th>\n",
              "    </tr>\n",
              "  </thead>\n",
              "  <tbody>\n",
              "    <tr>\n",
              "      <th>0</th>\n",
              "      <td>2018-09-28</td>\n",
              "      <td>234.05</td>\n",
              "      <td>235.95</td>\n",
              "      <td>230.20</td>\n",
              "      <td>233.50</td>\n",
              "      <td>233.75</td>\n",
              "      <td>3069914</td>\n",
              "      <td>7162.35</td>\n",
              "    </tr>\n",
              "    <tr>\n",
              "      <th>1</th>\n",
              "      <td>2018-09-27</td>\n",
              "      <td>234.55</td>\n",
              "      <td>236.80</td>\n",
              "      <td>231.10</td>\n",
              "      <td>233.80</td>\n",
              "      <td>233.25</td>\n",
              "      <td>5082859</td>\n",
              "      <td>11859.95</td>\n",
              "    </tr>\n",
              "    <tr>\n",
              "      <th>2</th>\n",
              "      <td>2018-09-26</td>\n",
              "      <td>240.00</td>\n",
              "      <td>240.00</td>\n",
              "      <td>232.50</td>\n",
              "      <td>235.00</td>\n",
              "      <td>234.25</td>\n",
              "      <td>2240909</td>\n",
              "      <td>5248.60</td>\n",
              "    </tr>\n",
              "    <tr>\n",
              "      <th>3</th>\n",
              "      <td>2018-09-25</td>\n",
              "      <td>233.30</td>\n",
              "      <td>236.75</td>\n",
              "      <td>232.00</td>\n",
              "      <td>236.25</td>\n",
              "      <td>236.10</td>\n",
              "      <td>2349368</td>\n",
              "      <td>5503.90</td>\n",
              "    </tr>\n",
              "    <tr>\n",
              "      <th>4</th>\n",
              "      <td>2018-09-24</td>\n",
              "      <td>233.55</td>\n",
              "      <td>239.20</td>\n",
              "      <td>230.75</td>\n",
              "      <td>234.00</td>\n",
              "      <td>233.30</td>\n",
              "      <td>3423509</td>\n",
              "      <td>7999.55</td>\n",
              "    </tr>\n",
              "    <tr>\n",
              "      <th>5</th>\n",
              "      <td>2018-09-21</td>\n",
              "      <td>235.00</td>\n",
              "      <td>237.00</td>\n",
              "      <td>227.95</td>\n",
              "      <td>233.75</td>\n",
              "      <td>234.60</td>\n",
              "      <td>5395319</td>\n",
              "      <td>12589.59</td>\n",
              "    </tr>\n",
              "    <tr>\n",
              "      <th>6</th>\n",
              "      <td>2018-09-19</td>\n",
              "      <td>235.95</td>\n",
              "      <td>237.20</td>\n",
              "      <td>233.45</td>\n",
              "      <td>234.60</td>\n",
              "      <td>234.90</td>\n",
              "      <td>1362058</td>\n",
              "      <td>3202.78</td>\n",
              "    </tr>\n",
              "    <tr>\n",
              "      <th>7</th>\n",
              "      <td>2018-09-18</td>\n",
              "      <td>237.90</td>\n",
              "      <td>239.25</td>\n",
              "      <td>233.50</td>\n",
              "      <td>235.50</td>\n",
              "      <td>235.05</td>\n",
              "      <td>2614794</td>\n",
              "      <td>6163.70</td>\n",
              "    </tr>\n",
              "    <tr>\n",
              "      <th>8</th>\n",
              "      <td>2018-09-17</td>\n",
              "      <td>233.15</td>\n",
              "      <td>238.00</td>\n",
              "      <td>230.25</td>\n",
              "      <td>236.40</td>\n",
              "      <td>236.60</td>\n",
              "      <td>3170894</td>\n",
              "      <td>7445.41</td>\n",
              "    </tr>\n",
              "    <tr>\n",
              "      <th>9</th>\n",
              "      <td>2018-09-14</td>\n",
              "      <td>223.45</td>\n",
              "      <td>236.70</td>\n",
              "      <td>223.30</td>\n",
              "      <td>234.00</td>\n",
              "      <td>233.95</td>\n",
              "      <td>6377909</td>\n",
              "      <td>14784.50</td>\n",
              "    </tr>\n",
              "    <tr>\n",
              "      <th>10</th>\n",
              "      <td>2018-09-12</td>\n",
              "      <td>216.35</td>\n",
              "      <td>223.70</td>\n",
              "      <td>212.65</td>\n",
              "      <td>221.65</td>\n",
              "      <td>222.65</td>\n",
              "      <td>4570939</td>\n",
              "      <td>10002.01</td>\n",
              "    </tr>\n",
              "    <tr>\n",
              "      <th>11</th>\n",
              "      <td>2018-09-11</td>\n",
              "      <td>222.50</td>\n",
              "      <td>225.40</td>\n",
              "      <td>214.85</td>\n",
              "      <td>216.35</td>\n",
              "      <td>216.00</td>\n",
              "      <td>3508990</td>\n",
              "      <td>7735.81</td>\n",
              "    </tr>\n",
              "    <tr>\n",
              "      <th>12</th>\n",
              "      <td>2018-09-10</td>\n",
              "      <td>222.50</td>\n",
              "      <td>235.15</td>\n",
              "      <td>220.65</td>\n",
              "      <td>221.05</td>\n",
              "      <td>222.00</td>\n",
              "      <td>7514106</td>\n",
              "      <td>17130.29</td>\n",
              "    </tr>\n",
              "    <tr>\n",
              "      <th>13</th>\n",
              "      <td>2018-09-07</td>\n",
              "      <td>221.00</td>\n",
              "      <td>224.50</td>\n",
              "      <td>219.10</td>\n",
              "      <td>223.15</td>\n",
              "      <td>222.95</td>\n",
              "      <td>1232507</td>\n",
              "      <td>2742.84</td>\n",
              "    </tr>\n",
              "    <tr>\n",
              "      <th>14</th>\n",
              "      <td>2018-09-06</td>\n",
              "      <td>224.00</td>\n",
              "      <td>225.00</td>\n",
              "      <td>218.20</td>\n",
              "      <td>220.95</td>\n",
              "      <td>221.05</td>\n",
              "      <td>1738824</td>\n",
              "      <td>3856.72</td>\n",
              "    </tr>\n",
              "  </tbody>\n",
              "</table>\n",
              "</div>\n",
              "      <button class=\"colab-df-convert\" onclick=\"convertToInteractive('df-3388a751-4b21-43ae-bd8f-d834136a25b4')\"\n",
              "              title=\"Convert this dataframe to an interactive table.\"\n",
              "              style=\"display:none;\">\n",
              "        \n",
              "  <svg xmlns=\"http://www.w3.org/2000/svg\" height=\"24px\"viewBox=\"0 0 24 24\"\n",
              "       width=\"24px\">\n",
              "    <path d=\"M0 0h24v24H0V0z\" fill=\"none\"/>\n",
              "    <path d=\"M18.56 5.44l.94 2.06.94-2.06 2.06-.94-2.06-.94-.94-2.06-.94 2.06-2.06.94zm-11 1L8.5 8.5l.94-2.06 2.06-.94-2.06-.94L8.5 2.5l-.94 2.06-2.06.94zm10 10l.94 2.06.94-2.06 2.06-.94-2.06-.94-.94-2.06-.94 2.06-2.06.94z\"/><path d=\"M17.41 7.96l-1.37-1.37c-.4-.4-.92-.59-1.43-.59-.52 0-1.04.2-1.43.59L10.3 9.45l-7.72 7.72c-.78.78-.78 2.05 0 2.83L4 21.41c.39.39.9.59 1.41.59.51 0 1.02-.2 1.41-.59l7.78-7.78 2.81-2.81c.8-.78.8-2.07 0-2.86zM5.41 20L4 18.59l7.72-7.72 1.47 1.35L5.41 20z\"/>\n",
              "  </svg>\n",
              "      </button>\n",
              "      \n",
              "  <style>\n",
              "    .colab-df-container {\n",
              "      display:flex;\n",
              "      flex-wrap:wrap;\n",
              "      gap: 12px;\n",
              "    }\n",
              "\n",
              "    .colab-df-convert {\n",
              "      background-color: #E8F0FE;\n",
              "      border: none;\n",
              "      border-radius: 50%;\n",
              "      cursor: pointer;\n",
              "      display: none;\n",
              "      fill: #1967D2;\n",
              "      height: 32px;\n",
              "      padding: 0 0 0 0;\n",
              "      width: 32px;\n",
              "    }\n",
              "\n",
              "    .colab-df-convert:hover {\n",
              "      background-color: #E2EBFA;\n",
              "      box-shadow: 0px 1px 2px rgba(60, 64, 67, 0.3), 0px 1px 3px 1px rgba(60, 64, 67, 0.15);\n",
              "      fill: #174EA6;\n",
              "    }\n",
              "\n",
              "    [theme=dark] .colab-df-convert {\n",
              "      background-color: #3B4455;\n",
              "      fill: #D2E3FC;\n",
              "    }\n",
              "\n",
              "    [theme=dark] .colab-df-convert:hover {\n",
              "      background-color: #434B5C;\n",
              "      box-shadow: 0px 1px 3px 1px rgba(0, 0, 0, 0.15);\n",
              "      filter: drop-shadow(0px 1px 2px rgba(0, 0, 0, 0.3));\n",
              "      fill: #FFFFFF;\n",
              "    }\n",
              "  </style>\n",
              "\n",
              "      <script>\n",
              "        const buttonEl =\n",
              "          document.querySelector('#df-3388a751-4b21-43ae-bd8f-d834136a25b4 button.colab-df-convert');\n",
              "        buttonEl.style.display =\n",
              "          google.colab.kernel.accessAllowed ? 'block' : 'none';\n",
              "\n",
              "        async function convertToInteractive(key) {\n",
              "          const element = document.querySelector('#df-3388a751-4b21-43ae-bd8f-d834136a25b4');\n",
              "          const dataTable =\n",
              "            await google.colab.kernel.invokeFunction('convertToInteractive',\n",
              "                                                     [key], {});\n",
              "          if (!dataTable) return;\n",
              "\n",
              "          const docLinkHtml = 'Like what you see? Visit the ' +\n",
              "            '<a target=\"_blank\" href=https://colab.research.google.com/notebooks/data_table.ipynb>data table notebook</a>'\n",
              "            + ' to learn more about interactive tables.';\n",
              "          element.innerHTML = '';\n",
              "          dataTable['output_type'] = 'display_data';\n",
              "          await google.colab.output.renderOutput(dataTable, element);\n",
              "          const docLink = document.createElement('div');\n",
              "          docLink.innerHTML = docLinkHtml;\n",
              "          element.appendChild(docLink);\n",
              "        }\n",
              "      </script>\n",
              "    </div>\n",
              "  </div>\n",
              "  "
            ],
            "text/plain": [
              "          Date    Open    High  ...   Close  Total Trade Quantity  Turnover (Lacs)\n",
              "0   2018-09-28  234.05  235.95  ...  233.75               3069914          7162.35\n",
              "1   2018-09-27  234.55  236.80  ...  233.25               5082859         11859.95\n",
              "2   2018-09-26  240.00  240.00  ...  234.25               2240909          5248.60\n",
              "3   2018-09-25  233.30  236.75  ...  236.10               2349368          5503.90\n",
              "4   2018-09-24  233.55  239.20  ...  233.30               3423509          7999.55\n",
              "5   2018-09-21  235.00  237.00  ...  234.60               5395319         12589.59\n",
              "6   2018-09-19  235.95  237.20  ...  234.90               1362058          3202.78\n",
              "7   2018-09-18  237.90  239.25  ...  235.05               2614794          6163.70\n",
              "8   2018-09-17  233.15  238.00  ...  236.60               3170894          7445.41\n",
              "9   2018-09-14  223.45  236.70  ...  233.95               6377909         14784.50\n",
              "10  2018-09-12  216.35  223.70  ...  222.65               4570939         10002.01\n",
              "11  2018-09-11  222.50  225.40  ...  216.00               3508990          7735.81\n",
              "12  2018-09-10  222.50  235.15  ...  222.00               7514106         17130.29\n",
              "13  2018-09-07  221.00  224.50  ...  222.95               1232507          2742.84\n",
              "14  2018-09-06  224.00  225.00  ...  221.05               1738824          3856.72\n",
              "\n",
              "[15 rows x 8 columns]"
            ]
          },
          "metadata": {},
          "execution_count": 32
        }
      ]
    },
    {
      "cell_type": "markdown",
      "source": [
        "Displaying last 10 entries of the dataset"
      ],
      "metadata": {
        "id": "2HPWN5F_2-_p"
      }
    },
    {
      "cell_type": "code",
      "source": [
        "sd.tail(10)"
      ],
      "metadata": {
        "colab": {
          "base_uri": "https://localhost:8080/",
          "height": 363
        },
        "id": "XxPKqMVZK8EL",
        "outputId": "4138e87d-d910-4986-f00b-e9a9a7ea7eaf"
      },
      "execution_count": 33,
      "outputs": [
        {
          "output_type": "execute_result",
          "data": {
            "text/html": [
              "\n",
              "  <div id=\"df-e4485f3e-af50-4ce4-a4e5-013e8be7af56\">\n",
              "    <div class=\"colab-df-container\">\n",
              "      <div>\n",
              "<style scoped>\n",
              "    .dataframe tbody tr th:only-of-type {\n",
              "        vertical-align: middle;\n",
              "    }\n",
              "\n",
              "    .dataframe tbody tr th {\n",
              "        vertical-align: top;\n",
              "    }\n",
              "\n",
              "    .dataframe thead th {\n",
              "        text-align: right;\n",
              "    }\n",
              "</style>\n",
              "<table border=\"1\" class=\"dataframe\">\n",
              "  <thead>\n",
              "    <tr style=\"text-align: right;\">\n",
              "      <th></th>\n",
              "      <th>Date</th>\n",
              "      <th>Open</th>\n",
              "      <th>High</th>\n",
              "      <th>Low</th>\n",
              "      <th>Last</th>\n",
              "      <th>Close</th>\n",
              "      <th>Total Trade Quantity</th>\n",
              "      <th>Turnover (Lacs)</th>\n",
              "    </tr>\n",
              "  </thead>\n",
              "  <tbody>\n",
              "    <tr>\n",
              "      <th>2025</th>\n",
              "      <td>2010-08-03</td>\n",
              "      <td>118.3</td>\n",
              "      <td>119.95</td>\n",
              "      <td>117.90</td>\n",
              "      <td>118.65</td>\n",
              "      <td>118.30</td>\n",
              "      <td>611234</td>\n",
              "      <td>726.78</td>\n",
              "    </tr>\n",
              "    <tr>\n",
              "      <th>2026</th>\n",
              "      <td>2010-08-02</td>\n",
              "      <td>117.3</td>\n",
              "      <td>118.50</td>\n",
              "      <td>116.60</td>\n",
              "      <td>118.10</td>\n",
              "      <td>117.30</td>\n",
              "      <td>663593</td>\n",
              "      <td>779.85</td>\n",
              "    </tr>\n",
              "    <tr>\n",
              "      <th>2027</th>\n",
              "      <td>2010-07-30</td>\n",
              "      <td>116.5</td>\n",
              "      <td>118.00</td>\n",
              "      <td>114.60</td>\n",
              "      <td>115.85</td>\n",
              "      <td>116.05</td>\n",
              "      <td>2656191</td>\n",
              "      <td>3112.68</td>\n",
              "    </tr>\n",
              "    <tr>\n",
              "      <th>2028</th>\n",
              "      <td>2010-07-29</td>\n",
              "      <td>112.5</td>\n",
              "      <td>121.70</td>\n",
              "      <td>112.50</td>\n",
              "      <td>117.50</td>\n",
              "      <td>116.60</td>\n",
              "      <td>2359134</td>\n",
              "      <td>2791.03</td>\n",
              "    </tr>\n",
              "    <tr>\n",
              "      <th>2029</th>\n",
              "      <td>2010-07-28</td>\n",
              "      <td>118.0</td>\n",
              "      <td>120.50</td>\n",
              "      <td>117.20</td>\n",
              "      <td>118.15</td>\n",
              "      <td>118.25</td>\n",
              "      <td>835593</td>\n",
              "      <td>994.01</td>\n",
              "    </tr>\n",
              "    <tr>\n",
              "      <th>2030</th>\n",
              "      <td>2010-07-27</td>\n",
              "      <td>117.6</td>\n",
              "      <td>119.50</td>\n",
              "      <td>112.00</td>\n",
              "      <td>118.80</td>\n",
              "      <td>118.65</td>\n",
              "      <td>586100</td>\n",
              "      <td>694.98</td>\n",
              "    </tr>\n",
              "    <tr>\n",
              "      <th>2031</th>\n",
              "      <td>2010-07-26</td>\n",
              "      <td>120.1</td>\n",
              "      <td>121.00</td>\n",
              "      <td>117.10</td>\n",
              "      <td>117.10</td>\n",
              "      <td>117.60</td>\n",
              "      <td>658440</td>\n",
              "      <td>780.01</td>\n",
              "    </tr>\n",
              "    <tr>\n",
              "      <th>2032</th>\n",
              "      <td>2010-07-23</td>\n",
              "      <td>121.8</td>\n",
              "      <td>121.95</td>\n",
              "      <td>120.25</td>\n",
              "      <td>120.35</td>\n",
              "      <td>120.65</td>\n",
              "      <td>281312</td>\n",
              "      <td>340.31</td>\n",
              "    </tr>\n",
              "    <tr>\n",
              "      <th>2033</th>\n",
              "      <td>2010-07-22</td>\n",
              "      <td>120.3</td>\n",
              "      <td>122.00</td>\n",
              "      <td>120.25</td>\n",
              "      <td>120.75</td>\n",
              "      <td>120.90</td>\n",
              "      <td>293312</td>\n",
              "      <td>355.17</td>\n",
              "    </tr>\n",
              "    <tr>\n",
              "      <th>2034</th>\n",
              "      <td>2010-07-21</td>\n",
              "      <td>122.1</td>\n",
              "      <td>123.00</td>\n",
              "      <td>121.05</td>\n",
              "      <td>121.10</td>\n",
              "      <td>121.55</td>\n",
              "      <td>658666</td>\n",
              "      <td>803.56</td>\n",
              "    </tr>\n",
              "  </tbody>\n",
              "</table>\n",
              "</div>\n",
              "      <button class=\"colab-df-convert\" onclick=\"convertToInteractive('df-e4485f3e-af50-4ce4-a4e5-013e8be7af56')\"\n",
              "              title=\"Convert this dataframe to an interactive table.\"\n",
              "              style=\"display:none;\">\n",
              "        \n",
              "  <svg xmlns=\"http://www.w3.org/2000/svg\" height=\"24px\"viewBox=\"0 0 24 24\"\n",
              "       width=\"24px\">\n",
              "    <path d=\"M0 0h24v24H0V0z\" fill=\"none\"/>\n",
              "    <path d=\"M18.56 5.44l.94 2.06.94-2.06 2.06-.94-2.06-.94-.94-2.06-.94 2.06-2.06.94zm-11 1L8.5 8.5l.94-2.06 2.06-.94-2.06-.94L8.5 2.5l-.94 2.06-2.06.94zm10 10l.94 2.06.94-2.06 2.06-.94-2.06-.94-.94-2.06-.94 2.06-2.06.94z\"/><path d=\"M17.41 7.96l-1.37-1.37c-.4-.4-.92-.59-1.43-.59-.52 0-1.04.2-1.43.59L10.3 9.45l-7.72 7.72c-.78.78-.78 2.05 0 2.83L4 21.41c.39.39.9.59 1.41.59.51 0 1.02-.2 1.41-.59l7.78-7.78 2.81-2.81c.8-.78.8-2.07 0-2.86zM5.41 20L4 18.59l7.72-7.72 1.47 1.35L5.41 20z\"/>\n",
              "  </svg>\n",
              "      </button>\n",
              "      \n",
              "  <style>\n",
              "    .colab-df-container {\n",
              "      display:flex;\n",
              "      flex-wrap:wrap;\n",
              "      gap: 12px;\n",
              "    }\n",
              "\n",
              "    .colab-df-convert {\n",
              "      background-color: #E8F0FE;\n",
              "      border: none;\n",
              "      border-radius: 50%;\n",
              "      cursor: pointer;\n",
              "      display: none;\n",
              "      fill: #1967D2;\n",
              "      height: 32px;\n",
              "      padding: 0 0 0 0;\n",
              "      width: 32px;\n",
              "    }\n",
              "\n",
              "    .colab-df-convert:hover {\n",
              "      background-color: #E2EBFA;\n",
              "      box-shadow: 0px 1px 2px rgba(60, 64, 67, 0.3), 0px 1px 3px 1px rgba(60, 64, 67, 0.15);\n",
              "      fill: #174EA6;\n",
              "    }\n",
              "\n",
              "    [theme=dark] .colab-df-convert {\n",
              "      background-color: #3B4455;\n",
              "      fill: #D2E3FC;\n",
              "    }\n",
              "\n",
              "    [theme=dark] .colab-df-convert:hover {\n",
              "      background-color: #434B5C;\n",
              "      box-shadow: 0px 1px 3px 1px rgba(0, 0, 0, 0.15);\n",
              "      filter: drop-shadow(0px 1px 2px rgba(0, 0, 0, 0.3));\n",
              "      fill: #FFFFFF;\n",
              "    }\n",
              "  </style>\n",
              "\n",
              "      <script>\n",
              "        const buttonEl =\n",
              "          document.querySelector('#df-e4485f3e-af50-4ce4-a4e5-013e8be7af56 button.colab-df-convert');\n",
              "        buttonEl.style.display =\n",
              "          google.colab.kernel.accessAllowed ? 'block' : 'none';\n",
              "\n",
              "        async function convertToInteractive(key) {\n",
              "          const element = document.querySelector('#df-e4485f3e-af50-4ce4-a4e5-013e8be7af56');\n",
              "          const dataTable =\n",
              "            await google.colab.kernel.invokeFunction('convertToInteractive',\n",
              "                                                     [key], {});\n",
              "          if (!dataTable) return;\n",
              "\n",
              "          const docLinkHtml = 'Like what you see? Visit the ' +\n",
              "            '<a target=\"_blank\" href=https://colab.research.google.com/notebooks/data_table.ipynb>data table notebook</a>'\n",
              "            + ' to learn more about interactive tables.';\n",
              "          element.innerHTML = '';\n",
              "          dataTable['output_type'] = 'display_data';\n",
              "          await google.colab.output.renderOutput(dataTable, element);\n",
              "          const docLink = document.createElement('div');\n",
              "          docLink.innerHTML = docLinkHtml;\n",
              "          element.appendChild(docLink);\n",
              "        }\n",
              "      </script>\n",
              "    </div>\n",
              "  </div>\n",
              "  "
            ],
            "text/plain": [
              "            Date   Open    High  ...   Close  Total Trade Quantity  Turnover (Lacs)\n",
              "2025  2010-08-03  118.3  119.95  ...  118.30                611234           726.78\n",
              "2026  2010-08-02  117.3  118.50  ...  117.30                663593           779.85\n",
              "2027  2010-07-30  116.5  118.00  ...  116.05               2656191          3112.68\n",
              "2028  2010-07-29  112.5  121.70  ...  116.60               2359134          2791.03\n",
              "2029  2010-07-28  118.0  120.50  ...  118.25                835593           994.01\n",
              "2030  2010-07-27  117.6  119.50  ...  118.65                586100           694.98\n",
              "2031  2010-07-26  120.1  121.00  ...  117.60                658440           780.01\n",
              "2032  2010-07-23  121.8  121.95  ...  120.65                281312           340.31\n",
              "2033  2010-07-22  120.3  122.00  ...  120.90                293312           355.17\n",
              "2034  2010-07-21  122.1  123.00  ...  121.55                658666           803.56\n",
              "\n",
              "[10 rows x 8 columns]"
            ]
          },
          "metadata": {},
          "execution_count": 33
        }
      ]
    },
    {
      "cell_type": "markdown",
      "source": [
        "The number of columns and rows :"
      ],
      "metadata": {
        "id": "zebhrGWd3MMI"
      }
    },
    {
      "cell_type": "code",
      "source": [
        "sd.shape"
      ],
      "metadata": {
        "colab": {
          "base_uri": "https://localhost:8080/"
        },
        "id": "SbObhKMwK_MG",
        "outputId": "b6955ccc-6322-490d-e281-f1177974c7de"
      },
      "execution_count": 34,
      "outputs": [
        {
          "output_type": "execute_result",
          "data": {
            "text/plain": [
              "(2035, 8)"
            ]
          },
          "metadata": {},
          "execution_count": 34
        }
      ]
    },
    {
      "cell_type": "code",
      "source": [
        "sd.isnull().sum()"
      ],
      "metadata": {
        "colab": {
          "base_uri": "https://localhost:8080/"
        },
        "id": "gZjaXTkoLA7r",
        "outputId": "e93a332c-5d31-4f3d-e7c5-1e70c73c210d"
      },
      "execution_count": 35,
      "outputs": [
        {
          "output_type": "execute_result",
          "data": {
            "text/plain": [
              "Date                    0\n",
              "Open                    0\n",
              "High                    0\n",
              "Low                     0\n",
              "Last                    0\n",
              "Close                   0\n",
              "Total Trade Quantity    0\n",
              "Turnover (Lacs)         0\n",
              "dtype: int64"
            ]
          },
          "metadata": {},
          "execution_count": 35
        }
      ]
    },
    {
      "cell_type": "code",
      "source": [
        "sd['Date'] = pd.to_datetime(sd['Date'])"
      ],
      "metadata": {
        "id": "k-IntZdNLGmQ"
      },
      "execution_count": 36,
      "outputs": []
    },
    {
      "cell_type": "code",
      "source": [
        "sdclose = sd['Close']"
      ],
      "metadata": {
        "id": "LKLoWo7rMgmI"
      },
      "execution_count": 37,
      "outputs": []
    },
    {
      "cell_type": "code",
      "source": [
        "sdclose"
      ],
      "metadata": {
        "colab": {
          "base_uri": "https://localhost:8080/"
        },
        "id": "ZoxaCi08V3mP",
        "outputId": "93256ac4-e0f7-4103-9c1a-a2d024798aff"
      },
      "execution_count": 38,
      "outputs": [
        {
          "output_type": "execute_result",
          "data": {
            "text/plain": [
              "0       233.75\n",
              "1       233.25\n",
              "2       234.25\n",
              "3       236.10\n",
              "4       233.30\n",
              "         ...  \n",
              "2030    118.65\n",
              "2031    117.60\n",
              "2032    120.65\n",
              "2033    120.90\n",
              "2034    121.55\n",
              "Name: Close, Length: 2035, dtype: float64"
            ]
          },
          "metadata": {},
          "execution_count": 38
        }
      ]
    },
    {
      "cell_type": "markdown",
      "source": [
        "Sorting the dataset according to date"
      ],
      "metadata": {
        "id": "RJSckyk33W9M"
      }
    },
    {
      "cell_type": "code",
      "source": [
        "sd=sd.sort_values('Date')"
      ],
      "metadata": {
        "id": "aCS7TPbHWZGt"
      },
      "execution_count": 39,
      "outputs": []
    },
    {
      "cell_type": "code",
      "source": [
        "sd.head()"
      ],
      "metadata": {
        "colab": {
          "base_uri": "https://localhost:8080/",
          "height": 206
        },
        "id": "m5tAEUc4YC1t",
        "outputId": "b8d81a90-e31a-444a-8c07-648d810c95e5"
      },
      "execution_count": 40,
      "outputs": [
        {
          "output_type": "execute_result",
          "data": {
            "text/html": [
              "\n",
              "  <div id=\"df-8271187a-6b72-4843-ab19-54b9299b42d1\">\n",
              "    <div class=\"colab-df-container\">\n",
              "      <div>\n",
              "<style scoped>\n",
              "    .dataframe tbody tr th:only-of-type {\n",
              "        vertical-align: middle;\n",
              "    }\n",
              "\n",
              "    .dataframe tbody tr th {\n",
              "        vertical-align: top;\n",
              "    }\n",
              "\n",
              "    .dataframe thead th {\n",
              "        text-align: right;\n",
              "    }\n",
              "</style>\n",
              "<table border=\"1\" class=\"dataframe\">\n",
              "  <thead>\n",
              "    <tr style=\"text-align: right;\">\n",
              "      <th></th>\n",
              "      <th>Date</th>\n",
              "      <th>Open</th>\n",
              "      <th>High</th>\n",
              "      <th>Low</th>\n",
              "      <th>Last</th>\n",
              "      <th>Close</th>\n",
              "      <th>Total Trade Quantity</th>\n",
              "      <th>Turnover (Lacs)</th>\n",
              "    </tr>\n",
              "  </thead>\n",
              "  <tbody>\n",
              "    <tr>\n",
              "      <th>2034</th>\n",
              "      <td>2010-07-21</td>\n",
              "      <td>122.1</td>\n",
              "      <td>123.00</td>\n",
              "      <td>121.05</td>\n",
              "      <td>121.10</td>\n",
              "      <td>121.55</td>\n",
              "      <td>658666</td>\n",
              "      <td>803.56</td>\n",
              "    </tr>\n",
              "    <tr>\n",
              "      <th>2033</th>\n",
              "      <td>2010-07-22</td>\n",
              "      <td>120.3</td>\n",
              "      <td>122.00</td>\n",
              "      <td>120.25</td>\n",
              "      <td>120.75</td>\n",
              "      <td>120.90</td>\n",
              "      <td>293312</td>\n",
              "      <td>355.17</td>\n",
              "    </tr>\n",
              "    <tr>\n",
              "      <th>2032</th>\n",
              "      <td>2010-07-23</td>\n",
              "      <td>121.8</td>\n",
              "      <td>121.95</td>\n",
              "      <td>120.25</td>\n",
              "      <td>120.35</td>\n",
              "      <td>120.65</td>\n",
              "      <td>281312</td>\n",
              "      <td>340.31</td>\n",
              "    </tr>\n",
              "    <tr>\n",
              "      <th>2031</th>\n",
              "      <td>2010-07-26</td>\n",
              "      <td>120.1</td>\n",
              "      <td>121.00</td>\n",
              "      <td>117.10</td>\n",
              "      <td>117.10</td>\n",
              "      <td>117.60</td>\n",
              "      <td>658440</td>\n",
              "      <td>780.01</td>\n",
              "    </tr>\n",
              "    <tr>\n",
              "      <th>2030</th>\n",
              "      <td>2010-07-27</td>\n",
              "      <td>117.6</td>\n",
              "      <td>119.50</td>\n",
              "      <td>112.00</td>\n",
              "      <td>118.80</td>\n",
              "      <td>118.65</td>\n",
              "      <td>586100</td>\n",
              "      <td>694.98</td>\n",
              "    </tr>\n",
              "  </tbody>\n",
              "</table>\n",
              "</div>\n",
              "      <button class=\"colab-df-convert\" onclick=\"convertToInteractive('df-8271187a-6b72-4843-ab19-54b9299b42d1')\"\n",
              "              title=\"Convert this dataframe to an interactive table.\"\n",
              "              style=\"display:none;\">\n",
              "        \n",
              "  <svg xmlns=\"http://www.w3.org/2000/svg\" height=\"24px\"viewBox=\"0 0 24 24\"\n",
              "       width=\"24px\">\n",
              "    <path d=\"M0 0h24v24H0V0z\" fill=\"none\"/>\n",
              "    <path d=\"M18.56 5.44l.94 2.06.94-2.06 2.06-.94-2.06-.94-.94-2.06-.94 2.06-2.06.94zm-11 1L8.5 8.5l.94-2.06 2.06-.94-2.06-.94L8.5 2.5l-.94 2.06-2.06.94zm10 10l.94 2.06.94-2.06 2.06-.94-2.06-.94-.94-2.06-.94 2.06-2.06.94z\"/><path d=\"M17.41 7.96l-1.37-1.37c-.4-.4-.92-.59-1.43-.59-.52 0-1.04.2-1.43.59L10.3 9.45l-7.72 7.72c-.78.78-.78 2.05 0 2.83L4 21.41c.39.39.9.59 1.41.59.51 0 1.02-.2 1.41-.59l7.78-7.78 2.81-2.81c.8-.78.8-2.07 0-2.86zM5.41 20L4 18.59l7.72-7.72 1.47 1.35L5.41 20z\"/>\n",
              "  </svg>\n",
              "      </button>\n",
              "      \n",
              "  <style>\n",
              "    .colab-df-container {\n",
              "      display:flex;\n",
              "      flex-wrap:wrap;\n",
              "      gap: 12px;\n",
              "    }\n",
              "\n",
              "    .colab-df-convert {\n",
              "      background-color: #E8F0FE;\n",
              "      border: none;\n",
              "      border-radius: 50%;\n",
              "      cursor: pointer;\n",
              "      display: none;\n",
              "      fill: #1967D2;\n",
              "      height: 32px;\n",
              "      padding: 0 0 0 0;\n",
              "      width: 32px;\n",
              "    }\n",
              "\n",
              "    .colab-df-convert:hover {\n",
              "      background-color: #E2EBFA;\n",
              "      box-shadow: 0px 1px 2px rgba(60, 64, 67, 0.3), 0px 1px 3px 1px rgba(60, 64, 67, 0.15);\n",
              "      fill: #174EA6;\n",
              "    }\n",
              "\n",
              "    [theme=dark] .colab-df-convert {\n",
              "      background-color: #3B4455;\n",
              "      fill: #D2E3FC;\n",
              "    }\n",
              "\n",
              "    [theme=dark] .colab-df-convert:hover {\n",
              "      background-color: #434B5C;\n",
              "      box-shadow: 0px 1px 3px 1px rgba(0, 0, 0, 0.15);\n",
              "      filter: drop-shadow(0px 1px 2px rgba(0, 0, 0, 0.3));\n",
              "      fill: #FFFFFF;\n",
              "    }\n",
              "  </style>\n",
              "\n",
              "      <script>\n",
              "        const buttonEl =\n",
              "          document.querySelector('#df-8271187a-6b72-4843-ab19-54b9299b42d1 button.colab-df-convert');\n",
              "        buttonEl.style.display =\n",
              "          google.colab.kernel.accessAllowed ? 'block' : 'none';\n",
              "\n",
              "        async function convertToInteractive(key) {\n",
              "          const element = document.querySelector('#df-8271187a-6b72-4843-ab19-54b9299b42d1');\n",
              "          const dataTable =\n",
              "            await google.colab.kernel.invokeFunction('convertToInteractive',\n",
              "                                                     [key], {});\n",
              "          if (!dataTable) return;\n",
              "\n",
              "          const docLinkHtml = 'Like what you see? Visit the ' +\n",
              "            '<a target=\"_blank\" href=https://colab.research.google.com/notebooks/data_table.ipynb>data table notebook</a>'\n",
              "            + ' to learn more about interactive tables.';\n",
              "          element.innerHTML = '';\n",
              "          dataTable['output_type'] = 'display_data';\n",
              "          await google.colab.output.renderOutput(dataTable, element);\n",
              "          const docLink = document.createElement('div');\n",
              "          docLink.innerHTML = docLinkHtml;\n",
              "          element.appendChild(docLink);\n",
              "        }\n",
              "      </script>\n",
              "    </div>\n",
              "  </div>\n",
              "  "
            ],
            "text/plain": [
              "           Date   Open    High  ...   Close  Total Trade Quantity  Turnover (Lacs)\n",
              "2034 2010-07-21  122.1  123.00  ...  121.55                658666           803.56\n",
              "2033 2010-07-22  120.3  122.00  ...  120.90                293312           355.17\n",
              "2032 2010-07-23  121.8  121.95  ...  120.65                281312           340.31\n",
              "2031 2010-07-26  120.1  121.00  ...  117.60                658440           780.01\n",
              "2030 2010-07-27  117.6  119.50  ...  118.65                586100           694.98\n",
              "\n",
              "[5 rows x 8 columns]"
            ]
          },
          "metadata": {},
          "execution_count": 40
        }
      ]
    },
    {
      "cell_type": "code",
      "source": [
        "sd.reset_index(inplace=True)"
      ],
      "metadata": {
        "id": "ZktVoSZsYHcm"
      },
      "execution_count": 41,
      "outputs": []
    },
    {
      "cell_type": "markdown",
      "source": [
        "Visiualizing the data"
      ],
      "metadata": {
        "id": "CHQykTTR0TmW"
      }
    },
    {
      "cell_type": "code",
      "source": [
        "plt.plot(sd['Close'])"
      ],
      "metadata": {
        "colab": {
          "base_uri": "https://localhost:8080/",
          "height": 282
        },
        "id": "B3SOG8NSYbhm",
        "outputId": "c44d23a9-b311-4891-a6b1-bd7ba867dc8c"
      },
      "execution_count": 42,
      "outputs": [
        {
          "output_type": "execute_result",
          "data": {
            "text/plain": [
              "[<matplotlib.lines.Line2D at 0x7f8424a003d0>]"
            ]
          },
          "metadata": {},
          "execution_count": 42
        },
        {
          "output_type": "display_data",
          "data": {
            "image/png": "[encoded data removed]",
            "text/plain": [
              "<Figure size 432x288 with 1 Axes>"
            ]
          },
          "metadata": {
            "needs_background": "light"
          }
        }
      ]
    },
    {
      "cell_type": "code",
      "source": [
        "scaler = MinMaxScaler(feature_range=(0,1))"
      ],
      "metadata": {
        "id": "mVeJt0VfYtQe"
      },
      "execution_count": 43,
      "outputs": []
    },
    {
      "cell_type": "code",
      "source": [
        "sdclose = scaler.fit_transform(np.array(sdclose).reshape(-1,1))"
      ],
      "metadata": {
        "id": "zeLY71czZFQC"
      },
      "execution_count": 44,
      "outputs": []
    },
    {
      "cell_type": "code",
      "source": [
        "sdclose"
      ],
      "metadata": {
        "colab": {
          "base_uri": "https://localhost:8080/"
        },
        "id": "8CoHrVehZQE1",
        "outputId": "f69b983f-013d-4b23-8461-cdea3c74ea0e"
      },
      "execution_count": 45,
      "outputs": [
        {
          "output_type": "execute_result",
          "data": {
            "text/plain": [
              "array([[0.62418301],\n",
              "       [0.62214052],\n",
              "       [0.62622549],\n",
              "       ...,\n",
              "       [0.1621732 ],\n",
              "       [0.16319444],\n",
              "       [0.16584967]])"
            ]
          },
          "metadata": {},
          "execution_count": 45
        }
      ]
    },
    {
      "cell_type": "markdown",
      "source": [
        "Training the Dataset"
      ],
      "metadata": {
        "id": "g-_qMWZezGdJ"
      }
    },
    {
      "cell_type": "code",
      "source": [
        "training_size = int(len(sdclose)*0.80)\n",
        "test_size = len(sdclose) - training_size\n",
        "train, test = sdclose[0: training_size,:], sdclose[training_size : len(sdclose),:1]"
      ],
      "metadata": {
        "id": "kdGTm0vHZR-e"
      },
      "execution_count": 46,
      "outputs": []
    },
    {
      "cell_type": "code",
      "source": [
        "# converting the array values previously calculated into a matrix\n",
        "def create_mat(ds, time_step = 1):\n",
        "    dataX, dataY = [], []\n",
        "    for i in range(len(ds)-time_step-1):\n",
        "        a = ds[i:(i+time_step),0]\n",
        "        dataX.append(a)\n",
        "        dataY.append(ds[i + time_step, 0])\n",
        "    return np.array(dataX), np.array(dataY)"
      ],
      "metadata": {
        "id": "6qyhNhmWZth8"
      },
      "execution_count": 47,
      "outputs": []
    },
    {
      "cell_type": "code",
      "source": [
        "time_step = 100\n",
        "X_train, y_train = create_mat(train, time_step)\n",
        "X_test, y_test = create_mat(test, time_step)"
      ],
      "metadata": {
        "id": "huV4GfX2aSKz"
      },
      "execution_count": 48,
      "outputs": []
    },
    {
      "cell_type": "code",
      "source": [
        "X_train = X_train.reshape(X_train.shape[0], X_train.shape[1], 1)\n",
        "X_test = X_test.reshape(X_test.shape[0], X_test.shape[1], 1)"
      ],
      "metadata": {
        "id": "mBBZaBLPaY4W"
      },
      "execution_count": 49,
      "outputs": []
    },
    {
      "cell_type": "markdown",
      "source": [
        "**LSTM MODEL**"
      ],
      "metadata": {
        "id": "9GygD44Vbtii"
      }
    },
    {
      "cell_type": "code",
      "source": [
        "#importing essential libraries \n",
        "from tensorflow.keras.models import Sequential\n",
        "from tensorflow.keras.layers import Dense\n",
        "from tensorflow.keras.layers import LSTM"
      ],
      "metadata": {
        "id": "IX-kVLVJblMQ"
      },
      "execution_count": 50,
      "outputs": []
    },
    {
      "cell_type": "code",
      "source": [
        "model = Sequential()\n",
        "model.add(LSTM(50,return_sequences=True,input_shape=(100,1)))\n",
        "model.add(LSTM(50,return_sequences=True))\n",
        "model.add(LSTM(50))\n",
        "model.add(Dense(1))\n",
        "model.compile(loss='mean_squared_error',optimizer='adam')\n",
        "model.summary()"
      ],
      "metadata": {
        "colab": {
          "base_uri": "https://localhost:8080/"
        },
        "id": "EYIw2sN6cuuh",
        "outputId": "7daa28d1-0bdb-49f1-ea22-d0ee737b61c5"
      },
      "execution_count": 51,
      "outputs": [
        {
          "output_type": "stream",
          "name": "stdout",
          "text": [
            "Model: \"sequential_1\"\n",
            "_________________________________________________________________\n",
            " Layer (type)                Output Shape              Param #   \n",
            "=================================================================\n",
            " lstm_3 (LSTM)               (None, 100, 50)           10400     \n",
            "                                                                 \n",
            " lstm_4 (LSTM)               (None, 100, 50)           20200     \n",
            "                                                                 \n",
            " lstm_5 (LSTM)               (None, 50)                20200     \n",
            "                                                                 \n",
            " dense_1 (Dense)             (None, 1)                 51        \n",
            "                                                                 \n",
            "=================================================================\n",
            "Total params: 50,851\n",
            "Trainable params: 50,851\n",
            "Non-trainable params: 0\n",
            "_________________________________________________________________\n"
          ]
        }
      ]
    },
    {
      "cell_type": "code",
      "source": [
        "model.fit(X_train, y_train, validation_split=0.1, epochs= 60, batch_size=64, verbose = 1)"
      ],
      "metadata": {
        "colab": {
          "base_uri": "https://localhost:8080/"
        },
        "id": "P5Nhjx6Lc7sa",
        "outputId": "8b9e0e26-9a10-4ae8-aeac-4ea2ce843f12"
      },
      "execution_count": 52,
      "outputs": [
        {
          "output_type": "stream",
          "name": "stdout",
          "text": [
            "Epoch 1/60\n",
            "22/22 [==============================] - 10s 245ms/step - loss: 0.0249 - val_loss: 0.0074\n",
            "Epoch 2/60\n",
            "22/22 [==============================] - 4s 188ms/step - loss: 0.0032 - val_loss: 0.0020\n",
            "Epoch 3/60\n",
            "22/22 [==============================] - 4s 185ms/step - loss: 0.0017 - val_loss: 9.2296e-04\n",
            "Epoch 4/60\n",
            "22/22 [==============================] - 4s 187ms/step - loss: 0.0015 - val_loss: 0.0012\n",
            "Epoch 5/60\n",
            "22/22 [==============================] - 4s 191ms/step - loss: 0.0014 - val_loss: 0.0010\n",
            "Epoch 6/60\n",
            "22/22 [==============================] - 4s 189ms/step - loss: 0.0014 - val_loss: 0.0014\n",
            "Epoch 7/60\n",
            "22/22 [==============================] - 4s 189ms/step - loss: 0.0014 - val_loss: 0.0011\n",
            "Epoch 8/60\n",
            "22/22 [==============================] - 4s 189ms/step - loss: 0.0014 - val_loss: 8.2890e-04\n",
            "Epoch 9/60\n",
            "22/22 [==============================] - 4s 187ms/step - loss: 0.0013 - val_loss: 0.0010\n",
            "Epoch 10/60\n",
            "22/22 [==============================] - 4s 186ms/step - loss: 0.0012 - val_loss: 9.5025e-04\n",
            "Epoch 11/60\n",
            "22/22 [==============================] - 4s 187ms/step - loss: 0.0011 - val_loss: 0.0012\n",
            "Epoch 12/60\n",
            "22/22 [==============================] - 4s 188ms/step - loss: 0.0010 - val_loss: 8.7644e-04\n",
            "Epoch 13/60\n",
            "22/22 [==============================] - 4s 187ms/step - loss: 9.8930e-04 - val_loss: 0.0011\n",
            "Epoch 14/60\n",
            "22/22 [==============================] - 4s 188ms/step - loss: 9.4735e-04 - val_loss: 0.0011\n",
            "Epoch 15/60\n",
            "22/22 [==============================] - 4s 188ms/step - loss: 9.4945e-04 - val_loss: 0.0010\n",
            "Epoch 16/60\n",
            "22/22 [==============================] - 4s 187ms/step - loss: 0.0010 - val_loss: 5.8745e-04\n",
            "Epoch 17/60\n",
            "22/22 [==============================] - 4s 188ms/step - loss: 8.6074e-04 - val_loss: 7.1012e-04\n",
            "Epoch 18/60\n",
            "22/22 [==============================] - 4s 190ms/step - loss: 8.5435e-04 - val_loss: 9.9992e-04\n",
            "Epoch 19/60\n",
            "22/22 [==============================] - 4s 189ms/step - loss: 9.3879e-04 - val_loss: 4.9824e-04\n",
            "Epoch 20/60\n",
            "22/22 [==============================] - 4s 192ms/step - loss: 9.3910e-04 - val_loss: 0.0010\n",
            "Epoch 21/60\n",
            "22/22 [==============================] - 4s 191ms/step - loss: 7.8648e-04 - val_loss: 6.4974e-04\n",
            "Epoch 22/60\n",
            "22/22 [==============================] - 4s 189ms/step - loss: 7.6440e-04 - val_loss: 7.8054e-04\n",
            "Epoch 23/60\n",
            "22/22 [==============================] - 4s 189ms/step - loss: 7.1419e-04 - val_loss: 6.5884e-04\n",
            "Epoch 24/60\n",
            "22/22 [==============================] - 4s 188ms/step - loss: 6.8322e-04 - val_loss: 6.5689e-04\n",
            "Epoch 25/60\n",
            "22/22 [==============================] - 4s 191ms/step - loss: 6.8678e-04 - val_loss: 6.9551e-04\n",
            "Epoch 26/60\n",
            "22/22 [==============================] - 4s 192ms/step - loss: 6.6636e-04 - val_loss: 8.9926e-04\n",
            "Epoch 27/60\n",
            "22/22 [==============================] - 4s 189ms/step - loss: 6.5675e-04 - val_loss: 4.6632e-04\n",
            "Epoch 28/60\n",
            "22/22 [==============================] - 4s 193ms/step - loss: 6.3874e-04 - val_loss: 5.7379e-04\n",
            "Epoch 29/60\n",
            "22/22 [==============================] - 4s 191ms/step - loss: 6.1608e-04 - val_loss: 6.6063e-04\n",
            "Epoch 30/60\n",
            "22/22 [==============================] - 4s 189ms/step - loss: 5.7915e-04 - val_loss: 4.8995e-04\n",
            "Epoch 31/60\n",
            "22/22 [==============================] - 4s 189ms/step - loss: 6.1227e-04 - val_loss: 6.6916e-04\n",
            "Epoch 32/60\n",
            "22/22 [==============================] - 4s 189ms/step - loss: 5.9009e-04 - val_loss: 5.3418e-04\n",
            "Epoch 33/60\n",
            "22/22 [==============================] - 4s 189ms/step - loss: 5.5743e-04 - val_loss: 6.4546e-04\n",
            "Epoch 34/60\n",
            "22/22 [==============================] - 4s 188ms/step - loss: 6.1264e-04 - val_loss: 8.7025e-04\n",
            "Epoch 35/60\n",
            "22/22 [==============================] - 4s 191ms/step - loss: 7.5805e-04 - val_loss: 3.5818e-04\n",
            "Epoch 36/60\n",
            "22/22 [==============================] - 4s 191ms/step - loss: 6.6394e-04 - val_loss: 4.8150e-04\n",
            "Epoch 37/60\n",
            "22/22 [==============================] - 4s 194ms/step - loss: 6.0441e-04 - val_loss: 4.9798e-04\n",
            "Epoch 38/60\n",
            "22/22 [==============================] - 4s 191ms/step - loss: 5.0160e-04 - val_loss: 6.4141e-04\n",
            "Epoch 39/60\n",
            "22/22 [==============================] - 4s 193ms/step - loss: 5.0672e-04 - val_loss: 4.3817e-04\n",
            "Epoch 40/60\n",
            "22/22 [==============================] - 4s 191ms/step - loss: 4.7500e-04 - val_loss: 4.3181e-04\n",
            "Epoch 41/60\n",
            "22/22 [==============================] - 4s 189ms/step - loss: 4.7207e-04 - val_loss: 4.2431e-04\n",
            "Epoch 42/60\n",
            "22/22 [==============================] - 4s 189ms/step - loss: 4.5547e-04 - val_loss: 6.3469e-04\n",
            "Epoch 43/60\n",
            "22/22 [==============================] - 4s 189ms/step - loss: 5.0481e-04 - val_loss: 5.3616e-04\n",
            "Epoch 44/60\n",
            "22/22 [==============================] - 4s 189ms/step - loss: 4.6731e-04 - val_loss: 6.1449e-04\n",
            "Epoch 45/60\n",
            "22/22 [==============================] - 4s 188ms/step - loss: 4.6292e-04 - val_loss: 6.4226e-04\n",
            "Epoch 46/60\n",
            "22/22 [==============================] - 4s 187ms/step - loss: 4.3495e-04 - val_loss: 4.5336e-04\n",
            "Epoch 47/60\n",
            "22/22 [==============================] - 4s 188ms/step - loss: 4.0845e-04 - val_loss: 2.6554e-04\n",
            "Epoch 48/60\n",
            "22/22 [==============================] - 4s 187ms/step - loss: 4.3510e-04 - val_loss: 3.7716e-04\n",
            "Epoch 49/60\n",
            "22/22 [==============================] - 4s 187ms/step - loss: 5.1989e-04 - val_loss: 4.1508e-04\n",
            "Epoch 50/60\n",
            "22/22 [==============================] - 4s 188ms/step - loss: 3.8492e-04 - val_loss: 3.5227e-04\n",
            "Epoch 51/60\n",
            "22/22 [==============================] - 4s 189ms/step - loss: 3.6302e-04 - val_loss: 2.8357e-04\n",
            "Epoch 52/60\n",
            "22/22 [==============================] - 4s 189ms/step - loss: 3.5898e-04 - val_loss: 3.7975e-04\n",
            "Epoch 53/60\n",
            "22/22 [==============================] - 4s 190ms/step - loss: 3.6709e-04 - val_loss: 3.3734e-04\n",
            "Epoch 54/60\n",
            "22/22 [==============================] - 4s 190ms/step - loss: 3.7063e-04 - val_loss: 4.0527e-04\n",
            "Epoch 55/60\n",
            "22/22 [==============================] - 4s 189ms/step - loss: 3.4113e-04 - val_loss: 2.4482e-04\n",
            "Epoch 56/60\n",
            "22/22 [==============================] - 4s 187ms/step - loss: 3.2245e-04 - val_loss: 2.8792e-04\n",
            "Epoch 57/60\n",
            "22/22 [==============================] - 4s 187ms/step - loss: 3.4062e-04 - val_loss: 2.8248e-04\n",
            "Epoch 58/60\n",
            "22/22 [==============================] - 4s 188ms/step - loss: 3.3625e-04 - val_loss: 3.0371e-04\n",
            "Epoch 59/60\n",
            "22/22 [==============================] - 4s 188ms/step - loss: 3.7869e-04 - val_loss: 2.2200e-04\n",
            "Epoch 60/60\n",
            "22/22 [==============================] - 4s 186ms/step - loss: 2.9489e-04 - val_loss: 2.6102e-04\n"
          ]
        },
        {
          "output_type": "execute_result",
          "data": {
            "text/plain": [
              "<keras.callbacks.History at 0x7f8422eca2d0>"
            ]
          },
          "metadata": {},
          "execution_count": 52
        }
      ]
    },
    {
      "cell_type": "markdown",
      "source": [
        "Prediciting the values"
      ],
      "metadata": {
        "id": "PtFYC8J9wAbB"
      }
    },
    {
      "cell_type": "code",
      "source": [
        "predict_values = model.predict(X_test)"
      ],
      "metadata": {
        "id": "Z47MSFLKdgoF"
      },
      "execution_count": 53,
      "outputs": []
    },
    {
      "cell_type": "code",
      "source": [
        "# performing inverse transform on predictions\n",
        "inv_predictions = scaler.inverse_transform(predict_values)"
      ],
      "metadata": {
        "id": "Zf9jCfqswT12"
      },
      "execution_count": 55,
      "outputs": []
    },
    {
      "cell_type": "code",
      "source": [
        "inv_predictions"
      ],
      "metadata": {
        "colab": {
          "base_uri": "https://localhost:8080/"
        },
        "id": "4hZ6kGlIwway",
        "outputId": "3fcfee59-50e1-4b81-d9e0-099a005af620"
      },
      "execution_count": 56,
      "outputs": [
        {
          "output_type": "execute_result",
          "data": {
            "text/plain": [
              "array([[ 91.93885 ],\n",
              "       [ 91.698074],\n",
              "       [ 90.99247 ],\n",
              "       [ 89.888985],\n",
              "       [ 88.83111 ],\n",
              "       [ 88.125084],\n",
              "       [ 87.960945],\n",
              "       [ 88.20872 ],\n",
              "       [ 88.73722 ],\n",
              "       [ 89.55897 ],\n",
              "       [ 90.3175  ],\n",
              "       [ 90.89182 ],\n",
              "       [ 91.16954 ],\n",
              "       [ 91.81084 ],\n",
              "       [ 92.73098 ],\n",
              "       [ 93.56427 ],\n",
              "       [ 94.138596],\n",
              "       [ 94.6337  ],\n",
              "       [ 95.003494],\n",
              "       [ 95.150475],\n",
              "       [ 95.10042 ],\n",
              "       [ 95.16324 ],\n",
              "       [ 95.496635],\n",
              "       [ 95.991936],\n",
              "       [ 96.488815],\n",
              "       [ 96.61985 ],\n",
              "       [ 96.52974 ],\n",
              "       [ 96.43448 ],\n",
              "       [ 96.38149 ],\n",
              "       [ 95.96093 ],\n",
              "       [ 95.55312 ],\n",
              "       [ 95.1962  ],\n",
              "       [ 95.01992 ],\n",
              "       [ 94.860466],\n",
              "       [ 94.3919  ],\n",
              "       [ 93.80842 ],\n",
              "       [ 93.94231 ],\n",
              "       [ 95.04584 ],\n",
              "       [ 97.13038 ],\n",
              "       [ 99.70129 ],\n",
              "       [102.58102 ],\n",
              "       [104.81317 ],\n",
              "       [106.513756],\n",
              "       [107.66923 ],\n",
              "       [108.884544],\n",
              "       [109.675705],\n",
              "       [109.5801  ],\n",
              "       [109.14672 ],\n",
              "       [108.627686],\n",
              "       [108.379135],\n",
              "       [108.487816],\n",
              "       [108.3639  ],\n",
              "       [108.06597 ],\n",
              "       [107.397766],\n",
              "       [106.1314  ],\n",
              "       [104.86678 ],\n",
              "       [104.14209 ],\n",
              "       [104.01243 ],\n",
              "       [104.00888 ],\n",
              "       [104.197235],\n",
              "       [104.38788 ],\n",
              "       [104.366714],\n",
              "       [104.29608 ],\n",
              "       [104.06334 ],\n",
              "       [104.33035 ],\n",
              "       [104.79732 ],\n",
              "       [105.23431 ],\n",
              "       [105.700005],\n",
              "       [105.32736 ],\n",
              "       [104.15654 ],\n",
              "       [102.25503 ],\n",
              "       [100.148026],\n",
              "       [ 98.23967 ],\n",
              "       [ 96.765305],\n",
              "       [ 95.674255],\n",
              "       [ 94.915886],\n",
              "       [ 94.66873 ],\n",
              "       [ 94.927475],\n",
              "       [ 96.02132 ],\n",
              "       [ 97.43693 ],\n",
              "       [ 98.9523  ],\n",
              "       [100.44377 ],\n",
              "       [101.68369 ],\n",
              "       [102.08743 ],\n",
              "       [101.844795],\n",
              "       [101.4289  ],\n",
              "       [100.61065 ],\n",
              "       [ 99.47512 ],\n",
              "       [ 98.35387 ],\n",
              "       [ 97.50343 ],\n",
              "       [ 96.73518 ],\n",
              "       [ 95.63856 ],\n",
              "       [ 94.33383 ],\n",
              "       [ 93.22758 ],\n",
              "       [ 92.23462 ],\n",
              "       [ 91.65412 ],\n",
              "       [ 91.85955 ],\n",
              "       [ 92.970314],\n",
              "       [ 94.77279 ],\n",
              "       [ 96.66561 ],\n",
              "       [ 98.266014],\n",
              "       [ 99.37699 ],\n",
              "       [100.07417 ],\n",
              "       [100.633736],\n",
              "       [100.95944 ],\n",
              "       [101.37486 ],\n",
              "       [101.75654 ],\n",
              "       [101.79638 ],\n",
              "       [101.524445],\n",
              "       [100.96336 ],\n",
              "       [100.47847 ],\n",
              "       [100.36613 ],\n",
              "       [100.638954],\n",
              "       [101.215904],\n",
              "       [102.11284 ],\n",
              "       [103.26527 ],\n",
              "       [104.480316],\n",
              "       [105.257286],\n",
              "       [105.64786 ],\n",
              "       [105.60035 ],\n",
              "       [105.23133 ],\n",
              "       [104.61103 ],\n",
              "       [104.27828 ],\n",
              "       [104.29324 ],\n",
              "       [104.44341 ],\n",
              "       [104.87548 ],\n",
              "       [105.98288 ],\n",
              "       [107.17792 ],\n",
              "       [107.98076 ],\n",
              "       [107.87363 ],\n",
              "       [106.959724],\n",
              "       [105.34945 ],\n",
              "       [103.488884],\n",
              "       [101.70998 ],\n",
              "       [100.588264],\n",
              "       [100.10553 ],\n",
              "       [100.21206 ],\n",
              "       [100.487206],\n",
              "       [100.77476 ],\n",
              "       [101.0405  ],\n",
              "       [101.17774 ],\n",
              "       [101.15665 ],\n",
              "       [101.2304  ],\n",
              "       [101.338264],\n",
              "       [101.84469 ],\n",
              "       [102.52467 ],\n",
              "       [102.606285],\n",
              "       [102.11625 ],\n",
              "       [101.02328 ],\n",
              "       [ 99.15862 ],\n",
              "       [ 97.24695 ],\n",
              "       [ 95.67226 ],\n",
              "       [ 94.65427 ],\n",
              "       [ 93.983   ],\n",
              "       [ 93.50326 ],\n",
              "       [ 93.05085 ],\n",
              "       [ 93.41756 ],\n",
              "       [ 94.5773  ],\n",
              "       [ 96.09606 ],\n",
              "       [ 97.39368 ],\n",
              "       [ 99.002365],\n",
              "       [ 99.97128 ],\n",
              "       [100.3089  ],\n",
              "       [100.06295 ],\n",
              "       [ 99.16644 ],\n",
              "       [ 97.57069 ],\n",
              "       [ 95.70333 ],\n",
              "       [ 94.47235 ],\n",
              "       [ 94.334305],\n",
              "       [ 94.9787  ],\n",
              "       [ 96.0641  ],\n",
              "       [ 97.368515],\n",
              "       [ 98.713234],\n",
              "       [100.00672 ],\n",
              "       [101.124725],\n",
              "       [102.69858 ],\n",
              "       [104.503685],\n",
              "       [106.17457 ],\n",
              "       [107.36891 ],\n",
              "       [108.11397 ],\n",
              "       [108.27692 ],\n",
              "       [107.99436 ],\n",
              "       [107.522385],\n",
              "       [106.99513 ],\n",
              "       [106.39926 ],\n",
              "       [105.91448 ],\n",
              "       [105.38504 ],\n",
              "       [105.17309 ],\n",
              "       [105.77607 ],\n",
              "       [107.263695],\n",
              "       [109.29769 ],\n",
              "       [111.43124 ],\n",
              "       [113.01166 ],\n",
              "       [113.41009 ],\n",
              "       [112.76749 ],\n",
              "       [111.90085 ],\n",
              "       [111.21185 ],\n",
              "       [110.841324],\n",
              "       [111.11949 ],\n",
              "       [111.80996 ],\n",
              "       [112.7738  ],\n",
              "       [114.0443  ],\n",
              "       [115.27497 ],\n",
              "       [116.18229 ],\n",
              "       [116.64226 ],\n",
              "       [116.63043 ],\n",
              "       [116.14195 ],\n",
              "       [115.17983 ],\n",
              "       [114.17052 ],\n",
              "       [113.85266 ],\n",
              "       [114.20447 ],\n",
              "       [114.86698 ],\n",
              "       [115.42899 ],\n",
              "       [115.933044],\n",
              "       [116.26307 ],\n",
              "       [116.156654],\n",
              "       [115.75496 ],\n",
              "       [115.19521 ],\n",
              "       [114.301765],\n",
              "       [114.28817 ],\n",
              "       [115.098465],\n",
              "       [116.66931 ],\n",
              "       [118.477974],\n",
              "       [119.966446],\n",
              "       [121.14694 ],\n",
              "       [122.48995 ],\n",
              "       [123.80882 ],\n",
              "       [125.36513 ],\n",
              "       [127.461296],\n",
              "       [128.80988 ],\n",
              "       [128.83842 ],\n",
              "       [128.05159 ],\n",
              "       [126.80927 ],\n",
              "       [125.6477  ],\n",
              "       [124.94983 ],\n",
              "       [124.62716 ],\n",
              "       [124.60068 ],\n",
              "       [125.476006],\n",
              "       [126.560394],\n",
              "       [127.484955],\n",
              "       [128.27962 ],\n",
              "       [128.88033 ],\n",
              "       [129.56502 ],\n",
              "       [130.0324  ],\n",
              "       [130.29681 ],\n",
              "       [130.36186 ],\n",
              "       [130.33827 ],\n",
              "       [130.8486  ],\n",
              "       [131.80003 ],\n",
              "       [132.31477 ],\n",
              "       [132.91792 ],\n",
              "       [133.24413 ],\n",
              "       [133.43617 ],\n",
              "       [132.78944 ],\n",
              "       [131.2701  ],\n",
              "       [129.14572 ],\n",
              "       [126.955025],\n",
              "       [124.685875],\n",
              "       [123.03567 ],\n",
              "       [122.38678 ],\n",
              "       [122.62684 ],\n",
              "       [123.578865],\n",
              "       [124.505585],\n",
              "       [124.68151 ],\n",
              "       [124.533585],\n",
              "       [124.619675],\n",
              "       [124.60362 ],\n",
              "       [124.37482 ],\n",
              "       [124.20441 ],\n",
              "       [124.2387  ],\n",
              "       [124.737526],\n",
              "       [125.765   ],\n",
              "       [126.83751 ],\n",
              "       [127.72798 ],\n",
              "       [127.536705],\n",
              "       [126.42278 ],\n",
              "       [125.04842 ],\n",
              "       [123.98903 ],\n",
              "       [122.99528 ],\n",
              "       [121.715805],\n",
              "       [120.47569 ],\n",
              "       [119.60645 ],\n",
              "       [118.99392 ],\n",
              "       [118.542336],\n",
              "       [118.29001 ],\n",
              "       [117.428894],\n",
              "       [116.44547 ],\n",
              "       [115.028404],\n",
              "       [113.71315 ],\n",
              "       [112.92242 ],\n",
              "       [113.04836 ],\n",
              "       [113.55295 ],\n",
              "       [114.29206 ],\n",
              "       [114.799545],\n",
              "       [115.067245],\n",
              "       [115.0303  ],\n",
              "       [115.06686 ],\n",
              "       [115.55281 ],\n",
              "       [116.56042 ],\n",
              "       [117.58923 ],\n",
              "       [118.17643 ],\n",
              "       [118.38294 ],\n",
              "       [118.576324],\n",
              "       [118.85709 ],\n",
              "       [119.00326 ],\n",
              "       [119.4605  ]], dtype=float32)"
            ]
          },
          "metadata": {},
          "execution_count": 56
        }
      ]
    },
    {
      "cell_type": "code",
      "source": [
        "import math\n",
        "from sklearn.metrics import mean_squared_error"
      ],
      "metadata": {
        "id": "SO95nU2-xBJe"
      },
      "execution_count": 57,
      "outputs": []
    },
    {
      "cell_type": "code",
      "source": [
        "mse = math.sqrt(mean_squared_error(y_test, predict_values))\n",
        "print(\"The Mean Squared Error for above model is: \", mse)"
      ],
      "metadata": {
        "colab": {
          "base_uri": "https://localhost:8080/"
        },
        "id": "6I3RmyL9xyvu",
        "outputId": "bb17372b-bf40-4eaf-a502-5d2dcc559ff2"
      },
      "execution_count": 59,
      "outputs": [
        {
          "output_type": "stream",
          "name": "stdout",
          "text": [
            "The Mean Squared Error for above model is:  0.016468353135790304\n"
          ]
        }
      ]
    },
    {
      "cell_type": "code",
      "source": [
        ""
      ],
      "metadata": {
        "id": "J9G4zhtgx4Pp"
      },
      "execution_count": null,
      "outputs": []
    }
  ]
}